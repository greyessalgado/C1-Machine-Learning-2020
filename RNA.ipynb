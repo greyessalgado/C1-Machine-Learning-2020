{
  "nbformat": 4,
  "nbformat_minor": 0,
  "metadata": {
    "colab": {
      "provenance": [],
      "collapsed_sections": [],
      "authorship_tag": "ABX9TyNRVUDIDgRmX1HmoGYPoxI0",
      "include_colab_link": true
    },
    "kernelspec": {
      "name": "python3",
      "display_name": "Python 3"
    },
    "language_info": {
      "name": "python"
    }
  },
  "cells": [
    {
      "cell_type": "markdown",
      "metadata": {
        "id": "view-in-github",
        "colab_type": "text"
      },
      "source": [
        "<a href=\"https://colab.research.google.com/github/greyessalgado/C1-Machine-Learning-2020/blob/master/RNA.ipynb\" target=\"_parent\"><img src=\"https://colab.research.google.com/assets/colab-badge.svg\" alt=\"Open In Colab\"/></a>"
      ]
    },
    {
      "cell_type": "code",
      "execution_count": 1,
      "metadata": {
        "id": "E9Bi7TvQwCNf"
      },
      "outputs": [],
      "source": [
        "import numpy as np\n",
        "from sklearn.linear_model import SGDClassifier"
      ]
    },
    {
      "cell_type": "code",
      "source": [
        "X = np.array([[0,0],[0,1],[1,0],[1,1]])\n",
        "Y = np.array([0,0,0,1])\n",
        "\n",
        "model = SGDClassifier(max_iter=1000, tol=1e-3)\n",
        "model.fit(X, Y)\n",
        "results = model.predict(X)\n",
        "print(\"Entradas:\"+str(X))\n",
        "print(\"Resultados AND:\"+str(results))"
      ],
      "metadata": {
        "colab": {
          "base_uri": "https://localhost:8080/"
        },
        "id": "fB46wwCJwLbp",
        "outputId": "3d1551fd-ba46-4e6e-db61-31d0fc09ddde"
      },
      "execution_count": 2,
      "outputs": [
        {
          "output_type": "stream",
          "name": "stdout",
          "text": [
            "Entradas:[[0 0]\n",
            " [0 1]\n",
            " [1 0]\n",
            " [1 1]]\n",
            "Resultados AND:[0 0 0 1]\n"
          ]
        }
      ]
    },
    {
      "cell_type": "code",
      "source": [
        "X = np.array([[0,0],[0,1],[1,0],[1,1]])\n",
        "Y = np.array([0,1,1,1])\n",
        "\n",
        "model = SGDClassifier(max_iter=1000, tol=1e-3)\n",
        "model.fit(X, Y)\n",
        "results = model.predict(X)\n",
        "print(\"Entradas:\"+str(X))\n",
        "print(\"Resultados OR:\"+str(results))"
      ],
      "metadata": {
        "colab": {
          "base_uri": "https://localhost:8080/"
        },
        "id": "0tVbTeHwec5M",
        "outputId": "a2448d00-e162-4fba-d3dd-ada7c51c793b"
      },
      "execution_count": 3,
      "outputs": [
        {
          "output_type": "stream",
          "name": "stdout",
          "text": [
            "Entradas:[[0 0]\n",
            " [0 1]\n",
            " [1 0]\n",
            " [1 1]]\n",
            "Resultados OR:[0 1 1 1]\n"
          ]
        }
      ]
    }
  ]
}